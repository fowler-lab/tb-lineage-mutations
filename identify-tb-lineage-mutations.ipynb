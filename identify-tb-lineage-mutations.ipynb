{
 "cells": [
  {
   "cell_type": "code",
   "execution_count": 166,
   "id": "a2ac67db-758e-433c-94b2-d0141ee00470",
   "metadata": {},
   "outputs": [],
   "source": [
    "import gumpy, pandas, pathlib, numpy, copy\n",
    "\n",
    "from tqdm import tqdm"
   ]
  },
  {
   "cell_type": "markdown",
   "id": "36a239a0-4e7d-49ae-b0ed-c50c3d30a774",
   "metadata": {},
   "source": [
    "First, identify where the `snpit` module is stored relative to this repo so we can read in the master list of lineages `snpit` can identify and the names of their files (`id`)"
   ]
  },
  {
   "cell_type": "code",
   "execution_count": 267,
   "id": "ca526b91-9993-4272-83c5-920ed54f6f07",
   "metadata": {},
   "outputs": [
    {
     "data": {
      "text/html": [
       "<div>\n",
       "<style scoped>\n",
       "    .dataframe tbody tr th:only-of-type {\n",
       "        vertical-align: middle;\n",
       "    }\n",
       "\n",
       "    .dataframe tbody tr th {\n",
       "        vertical-align: top;\n",
       "    }\n",
       "\n",
       "    .dataframe thead th {\n",
       "        text-align: right;\n",
       "    }\n",
       "</style>\n",
       "<table border=\"1\" class=\"dataframe\">\n",
       "  <thead>\n",
       "    <tr style=\"text-align: right;\">\n",
       "      <th></th>\n",
       "      <th>species</th>\n",
       "      <th>lineage</th>\n",
       "      <th>sublineage</th>\n",
       "    </tr>\n",
       "    <tr>\n",
       "      <th>id</th>\n",
       "      <th></th>\n",
       "      <th></th>\n",
       "      <th></th>\n",
       "    </tr>\n",
       "  </thead>\n",
       "  <tbody>\n",
       "    <tr>\n",
       "      <th>Indo_Oceanic</th>\n",
       "      <td>M. tuberculosis</td>\n",
       "      <td>Lineage 1</td>\n",
       "      <td>NaN</td>\n",
       "    </tr>\n",
       "    <tr>\n",
       "      <th>beijing</th>\n",
       "      <td>M. tuberculosis</td>\n",
       "      <td>Lineage 2</td>\n",
       "      <td>NaN</td>\n",
       "    </tr>\n",
       "    <tr>\n",
       "      <th>East_African_Indian</th>\n",
       "      <td>M. tuberculosis</td>\n",
       "      <td>Lineage 3</td>\n",
       "      <td>NaN</td>\n",
       "    </tr>\n",
       "  </tbody>\n",
       "</table>\n",
       "</div>"
      ],
      "text/plain": [
       "                             species    lineage sublineage\n",
       "id                                                        \n",
       "Indo_Oceanic         M. tuberculosis  Lineage 1        NaN\n",
       "beijing              M. tuberculosis  Lineage 2        NaN\n",
       "East_African_Indian  M. tuberculosis  Lineage 3        NaN"
      ]
     },
     "execution_count": 267,
     "metadata": {},
     "output_type": "execute_result"
    }
   ],
   "source": [
    "snpit_path = pathlib.Path('../snpit/lib/')\n",
    "snpit = pandas.read_csv(snpit_path / 'library.csv')\n",
    "snpit.set_index('id', inplace=True)\n",
    "snpit[:3]"
   ]
  },
  {
   "cell_type": "markdown",
   "id": "270cee02-560b-435d-8fc4-4f70b21a0de8",
   "metadata": {},
   "source": [
    "Then load in the H37Rv reference genome"
   ]
  },
  {
   "cell_type": "code",
   "execution_count": 17,
   "id": "fb050342-15fa-40e8-8fd2-6f1c9ed26cfc",
   "metadata": {},
   "outputs": [],
   "source": [
    "reference = gumpy.Genome(snpit_path / 'H37Rv.gbk')"
   ]
  },
  {
   "cell_type": "code",
   "execution_count": 18,
   "id": "5dc45fb0-06c7-473a-8c58-c0ee047ff0eb",
   "metadata": {},
   "outputs": [
    {
     "data": {
      "text/plain": [
       "NC_000962\n",
       "NC_000962.3\n",
       "Mycobacterium tuberculosis H37Rv, complete genome\n",
       "4411532 bases\n",
       "ttgacc...acgtcg\n",
       "metadata for all genes/loci have been included"
      ]
     },
     "execution_count": 18,
     "metadata": {},
     "output_type": "execute_result"
    }
   ],
   "source": [
    "reference"
   ]
  },
  {
   "cell_type": "markdown",
   "id": "f6f627c0-ad51-4267-9270-4e414652b339",
   "metadata": {},
   "source": [
    "We are going to need to compare genes later, so faster to just build once up front (take up to 8 min)"
   ]
  },
  {
   "cell_type": "code",
   "execution_count": 167,
   "id": "7d51ac99-ede5-4bb7-984c-71c572a479b3",
   "metadata": {},
   "outputs": [
    {
     "name": "stderr",
     "output_type": "stream",
     "text": [
      "100%|███████████████████████████████████████| 3909/3909 [07:34<00:00,  8.61it/s]\n"
     ]
    }
   ],
   "source": [
    "reference_genes = {}\n",
    "for gene_name in tqdm(reference.genes):\n",
    "    reference_genes[gene_name] = reference.build_gene(gene_name)"
   ]
  },
  {
   "cell_type": "markdown",
   "id": "1c9be9a2-ef99-4662-a16b-c382a8722903",
   "metadata": {},
   "source": [
    "## Verify the fields in the lineage-defining files\n",
    "\n",
    "First, let's check these files behave as we think by loading the `lineage4` list; if the `nucleotide-index` is the same as the GenBank file it should be 1-based and if the `ref` base is what defines that lineage, then the reference genome should have identical bases at these positions."
   ]
  },
  {
   "cell_type": "code",
   "execution_count": 113,
   "id": "ad239fba-baf5-47a9-a6bc-8a1f451733dc",
   "metadata": {},
   "outputs": [
    {
     "name": "stdout",
     "output_type": "stream",
     "text": [
      "     nucleotide_index ref\n",
      "22              15117   C\n",
      "125             42281   C\n",
      "150             70267   G \n",
      "\n",
      "ccgttcgttgtatctgagtaatattttgtatgctttcgcaacgttaaaagagaatatctatccattagtcggggaaccttacgcctagaggcatcatttccgaaatctataaagacaaaaacccttcgcaaaacattgcgggaacttttaccgagacggactc \n",
      "\n",
      "ccgttcgttgtatctgagtaatattttgtatgctttcgcaacgttaaaagagaatatctatccattagtcggggaaccttacgcctagaggcatcatttccgaaatctataaagacaaaaacccttcgcaaaacattgcgggaacttttaccgagacggactc \n",
      "\n",
      "identical!\n"
     ]
    }
   ],
   "source": [
    "file_path = snpit_path / 'lineage4'\n",
    "df = pandas.read_csv(file_path, sep='\\t', names=['nucleotide_index', 'ref'])\n",
    "df = df.sort_values('nucleotide_index')\n",
    "print(df[:3], '\\n')\n",
    "\n",
    "new_seq = ''.join(i.lower() for i in df.ref)\n",
    "print(new_seq, '\\n')\n",
    "\n",
    "mask = numpy.isin(reference.nucleotide_index, df.nucleotide_index )\n",
    "original_seq = ''. join(i for i in reference.nucleotide_sequence[mask])\n",
    "print(original_seq, '\\n')\n",
    "\n",
    "if original_seq == new_seq:\n",
    "    print(\"identical!\")"
   ]
  },
  {
   "cell_type": "markdown",
   "id": "cd5271f8-bb3f-4618-a0ca-cc41b1cc456d",
   "metadata": {},
   "source": [
    "Conversely, a list of definitions for another lineage should be ALL different to the reference"
   ]
  },
  {
   "cell_type": "code",
   "execution_count": 114,
   "id": "0e777476-5781-4461-9f0a-e1a75d1a0671",
   "metadata": {},
   "outputs": [
    {
     "name": "stdout",
     "output_type": "stream",
     "text": [
      "    nucleotide_index ref\n",
      "15             11820   G\n",
      "34             14861   T\n",
      "41             16119   A \n",
      "\n",
      "gtactcgggtctatcttagtgcgcatatacccttattatctgatggcggagtatgtcggaactcgtttgatcgcccatgcttaaccgatgccaatgcgtgggtctaattgagccgatttgtgcgctcgcccgactatagtctagctcgtaaccccctactgagatagtcatagcatagttgcacttaaccacaaacggtaattgttataggtacccgttaaatgctagcaaacgaaccctgttaaaagtgatatcacatttagcccatagaatcctcatcaatatccagtagccgg\n",
      "\n",
      "cgcgcgccagtcgcacggcgcactccgcgggtcgggcgctctgcccatagactcagtttccgcgaccctgcactaagcaacccgtatcctaaggcagtctaccggggggcgataagccccccaaacatttaaggccgcccagctacgaccgtgggtgctctgagggactccgcgggcccgtaggcgcgaagtgggaaaccgccagcccgttcgattaccgcgcctcgctgctaagggtacaccgcggcgcgcggggggacccaggggggacgctactggtggcgcgggtcgtgtct\n",
      "\n",
      "all different!\n"
     ]
    }
   ],
   "source": [
    "file_path = snpit_path / 'beijing'\n",
    "df = pandas.read_csv(file_path, sep='\\t', names=['nucleotide_index', 'ref'])\n",
    "df = df.sort_values('nucleotide_index')\n",
    "print(df[:3], '\\n')\n",
    "\n",
    "new_seq = ''.join(i.lower() for i in df.ref)\n",
    "print(new_seq + '\\n')\n",
    "\n",
    "mask = numpy.isin(reference.nucleotide_index, df.nucleotide_index)\n",
    "original_seq = ''. join(i for i in reference.nucleotide_sequence[mask])\n",
    "print(original_seq + '\\n')\n",
    "\n",
    "counter = 0\n",
    "for (i,j) in zip(original_seq, new_seq):\n",
    "    if i == j:\n",
    "        counter += 1\n",
    "if counter == 0:\n",
    "    print(\"all different!\")"
   ]
  },
  {
   "cell_type": "markdown",
   "id": "c09bd39b-d743-4993-a156-1a93882b5f02",
   "metadata": {},
   "source": [
    "## Test on a single linege"
   ]
  },
  {
   "cell_type": "markdown",
   "id": "440d5752-935e-4285-88de-34970d017d7c",
   "metadata": {},
   "source": [
    "Make a `deepcopy` of the `reference` so we can modify it"
   ]
  },
  {
   "cell_type": "code",
   "execution_count": 255,
   "id": "5c5224b1-f03c-4032-ab0e-8d3fb2cc0ea0",
   "metadata": {},
   "outputs": [],
   "source": [
    "sample = copy.deepcopy(reference)"
   ]
  },
  {
   "cell_type": "markdown",
   "id": "8202a789-1f67-42e6-9c66-cb1971179446",
   "metadata": {},
   "source": [
    "let's test using `Lineage 2`"
   ]
  },
  {
   "cell_type": "code",
   "execution_count": 256,
   "id": "1a17ba98-b506-46a8-b26f-9e560f800c9b",
   "metadata": {},
   "outputs": [],
   "source": [
    "lineage_name = 'beijing'"
   ]
  },
  {
   "cell_type": "code",
   "execution_count": 257,
   "id": "14dd5ca3-917f-4367-a9d8-e8e53c01fda3",
   "metadata": {},
   "outputs": [
    {
     "data": {
      "text/html": [
       "<div>\n",
       "<style scoped>\n",
       "    .dataframe tbody tr th:only-of-type {\n",
       "        vertical-align: middle;\n",
       "    }\n",
       "\n",
       "    .dataframe tbody tr th {\n",
       "        vertical-align: top;\n",
       "    }\n",
       "\n",
       "    .dataframe thead th {\n",
       "        text-align: right;\n",
       "    }\n",
       "</style>\n",
       "<table border=\"1\" class=\"dataframe\">\n",
       "  <thead>\n",
       "    <tr style=\"text-align: right;\">\n",
       "      <th></th>\n",
       "      <th>nucleotide_index</th>\n",
       "      <th>ref</th>\n",
       "    </tr>\n",
       "  </thead>\n",
       "  <tbody>\n",
       "    <tr>\n",
       "      <th>15</th>\n",
       "      <td>11820</td>\n",
       "      <td>G</td>\n",
       "    </tr>\n",
       "    <tr>\n",
       "      <th>34</th>\n",
       "      <td>14861</td>\n",
       "      <td>T</td>\n",
       "    </tr>\n",
       "    <tr>\n",
       "      <th>41</th>\n",
       "      <td>16119</td>\n",
       "      <td>A</td>\n",
       "    </tr>\n",
       "  </tbody>\n",
       "</table>\n",
       "</div>"
      ],
      "text/plain": [
       "    nucleotide_index ref\n",
       "15             11820   G\n",
       "34             14861   T\n",
       "41             16119   A"
      ]
     },
     "execution_count": 257,
     "metadata": {},
     "output_type": "execute_result"
    }
   ],
   "source": [
    "file_path = snpit_path / lineage_name\n",
    "df = pandas.read_csv(file_path, sep='\\t', names=['nucleotide_index', 'ref'])\n",
    "df = df.sort_values('nucleotide_index')\n",
    "df[:3]"
   ]
  },
  {
   "cell_type": "markdown",
   "id": "09f66216-e619-4a35-ac3e-d649907a7c70",
   "metadata": {},
   "source": [
    "First, let's produce a `VARIANTS` style table with the nucleotide variation"
   ]
  },
  {
   "cell_type": "code",
   "execution_count": 258,
   "id": "f4bedd50-a517-4459-a463-d2aaf3669f6c",
   "metadata": {},
   "outputs": [
    {
     "data": {
      "text/plain": [
       "array(['11820c>g', '14861g>t', '16119c>a', '25610g>c', '35608c>t'],\n",
       "      dtype='<U10')"
      ]
     },
     "execution_count": 258,
     "metadata": {},
     "output_type": "execute_result"
    }
   ],
   "source": [
    "mask = numpy.isin(sample.nucleotide_index, df.nucleotide_index)\n",
    "sample.nucleotide_sequence[mask] = df.ref.str.lower()\n",
    "gdiff = reference - sample\n",
    "gdiff.variants[:5]"
   ]
  },
  {
   "cell_type": "code",
   "execution_count": 259,
   "id": "0e7f93b3-ffbd-4a88-b038-a21ff29fe9bf",
   "metadata": {},
   "outputs": [
    {
     "data": {
      "text/html": [
       "<div>\n",
       "<style scoped>\n",
       "    .dataframe tbody tr th:only-of-type {\n",
       "        vertical-align: middle;\n",
       "    }\n",
       "\n",
       "    .dataframe tbody tr th {\n",
       "        vertical-align: top;\n",
       "    }\n",
       "\n",
       "    .dataframe thead th {\n",
       "        text-align: right;\n",
       "    }\n",
       "</style>\n",
       "<table border=\"1\" class=\"dataframe\">\n",
       "  <thead>\n",
       "    <tr style=\"text-align: right;\">\n",
       "      <th></th>\n",
       "      <th>VARIANT</th>\n",
       "    </tr>\n",
       "  </thead>\n",
       "  <tbody>\n",
       "    <tr>\n",
       "      <th>0</th>\n",
       "      <td>11820c&gt;g</td>\n",
       "    </tr>\n",
       "    <tr>\n",
       "      <th>1</th>\n",
       "      <td>14861g&gt;t</td>\n",
       "    </tr>\n",
       "    <tr>\n",
       "      <th>2</th>\n",
       "      <td>16119c&gt;a</td>\n",
       "    </tr>\n",
       "  </tbody>\n",
       "</table>\n",
       "</div>"
      ],
      "text/plain": [
       "    VARIANT\n",
       "0  11820c>g\n",
       "1  14861g>t\n",
       "2  16119c>a"
      ]
     },
     "execution_count": 259,
     "metadata": {},
     "output_type": "execute_result"
    }
   ],
   "source": [
    "VARIANTS = pandas.DataFrame(gdiff.variants, columns=['VARIANT'])\n",
    "VARIANTS[:3]"
   ]
  },
  {
   "cell_type": "markdown",
   "id": "d25e5115-6c32-44ef-bf68-cfaa2e89a9e4",
   "metadata": {},
   "source": [
    "Now, let's work out what genes those `variants` are in (some will be intergenic), recalculate the `sample` genes and produce `MUTATION` style tables"
   ]
  },
  {
   "cell_type": "code",
   "execution_count": 260,
   "id": "8de520ac-9a2f-4b2f-93f4-046f22cbd75a",
   "metadata": {},
   "outputs": [
    {
     "name": "stdout",
     "output_type": "stream",
     "text": [
      "There are 266 genes that are different in this lineage\n"
     ]
    },
    {
     "data": {
      "text/plain": [
       "array(['', 'PE14', 'PE16', 'PE23', 'PE24'], dtype='<U20')"
      ]
     },
     "execution_count": 260,
     "metadata": {},
     "output_type": "execute_result"
    }
   ],
   "source": [
    "mask = numpy.isin(sample.stacked_nucleotide_index, df.nucleotide_index)\n",
    "\n",
    "mutated_genes = numpy.unique(sample.stacked_gene_name[mask])\n",
    "\n",
    "print(\"There are \" + str(len(mutated_genes)) + \" genes that are different in this lineage\")\n",
    "mutated_genes[:5]"
   ]
  },
  {
   "cell_type": "code",
   "execution_count": 261,
   "id": "7d251f42-b6eb-4798-8425-a69dc66ab26c",
   "metadata": {},
   "outputs": [
    {
     "name": "stderr",
     "output_type": "stream",
     "text": [
      "100%|█████████████████████████████████████████| 266/266 [00:31<00:00,  8.33it/s]\n"
     ]
    }
   ],
   "source": [
    "rows = []\n",
    "for gene_name in tqdm(mutated_genes):\n",
    "    if gene_name != '':\n",
    "        gene2 = sample.build_gene(gene_name)\n",
    "        mdiff = reference_genes[gene_name] - gene2\n",
    "        for mutation in mdiff.mutations:\n",
    "            rows.append([lineage_name,gene_name, mutation])"
   ]
  },
  {
   "cell_type": "code",
   "execution_count": 264,
   "id": "29740380-d32c-47e0-abc4-4a6fbb1ac9a9",
   "metadata": {},
   "outputs": [
    {
     "data": {
      "text/html": [
       "<div>\n",
       "<style scoped>\n",
       "    .dataframe tbody tr th:only-of-type {\n",
       "        vertical-align: middle;\n",
       "    }\n",
       "\n",
       "    .dataframe tbody tr th {\n",
       "        vertical-align: top;\n",
       "    }\n",
       "\n",
       "    .dataframe thead th {\n",
       "        text-align: right;\n",
       "    }\n",
       "</style>\n",
       "<table border=\"1\" class=\"dataframe\">\n",
       "  <thead>\n",
       "    <tr style=\"text-align: right;\">\n",
       "      <th></th>\n",
       "      <th>id</th>\n",
       "      <th>GENE</th>\n",
       "      <th>MUTATION</th>\n",
       "    </tr>\n",
       "  </thead>\n",
       "  <tbody>\n",
       "    <tr>\n",
       "      <th>0</th>\n",
       "      <td>beijing</td>\n",
       "      <td>PE14</td>\n",
       "      <td>A106A</td>\n",
       "    </tr>\n",
       "    <tr>\n",
       "      <th>1</th>\n",
       "      <td>beijing</td>\n",
       "      <td>PE16</td>\n",
       "      <td>A96A</td>\n",
       "    </tr>\n",
       "    <tr>\n",
       "      <th>2</th>\n",
       "      <td>beijing</td>\n",
       "      <td>PE23</td>\n",
       "      <td>A344T</td>\n",
       "    </tr>\n",
       "  </tbody>\n",
       "</table>\n",
       "</div>"
      ],
      "text/plain": [
       "        id  GENE MUTATION\n",
       "0  beijing  PE14    A106A\n",
       "1  beijing  PE16     A96A\n",
       "2  beijing  PE23    A344T"
      ]
     },
     "execution_count": 264,
     "metadata": {},
     "output_type": "execute_result"
    }
   ],
   "source": [
    "MUTATIONS = pandas.DataFrame(rows, columns = ['id', 'GENE', 'MUTATION'])\n",
    "MUTATIONS['id'] = lineage_name\n",
    "MUTATIONS[:3]"
   ]
  },
  {
   "cell_type": "markdown",
   "id": "27b2406c-ffc6-4eb6-af63-15f920cc8f3b",
   "metadata": {},
   "source": [
    "## Putting it all together\n",
    "\n",
    "Now that we know what are in the files, and we've tested it, let's put it all together.\n",
    "\n",
    "The below takes about 20 min to run."
   ]
  },
  {
   "cell_type": "code",
   "execution_count": 269,
   "id": "0c16ef57-cf4d-4e09-b00d-fff74e2cf0da",
   "metadata": {},
   "outputs": [
    {
     "name": "stderr",
     "output_type": "stream",
     "text": [
      "100%|███████████████████████████████████████████| 26/26 [18:07<00:00, 41.85s/it]\n"
     ]
    }
   ],
   "source": [
    "variant_rows = []\n",
    "\n",
    "VARIANTS = None\n",
    "MUTATIONS = None\n",
    "\n",
    "for lineage_name in tqdm(snpit.index):\n",
    "    \n",
    "#     print(lineage_name)\n",
    "    \n",
    "    sample = copy.deepcopy(reference)\n",
    "    \n",
    "    file_path = snpit_path / lineage_name\n",
    "    snpit_lineage_definition = pandas.read_csv(file_path, sep='\\t', names=['nucleotide_index', 'ref'])\n",
    "    snpit_lineage_definition = snpit_lineage_definition.sort_values('nucleotide_index')\n",
    "    \n",
    "    mask = numpy.isin(sample.nucleotide_index, snpit_lineage_definition.nucleotide_index)\n",
    "    sample.nucleotide_sequence[mask] = snpit_lineage_definition.ref.str.lower()\n",
    "    gdiff = reference - sample\n",
    "\n",
    "    df = pandas.DataFrame(gdiff.variants, columns=['VARIANT'])\n",
    "    df['id'] = lineage_name\n",
    "\n",
    "    if VARIANTS is None:\n",
    "        VARIANTS = copy.deepcopy(df)\n",
    "    else:\n",
    "        VARIANTS = VARIANTS.append(df)\n",
    "        \n",
    "    # Now, let's work out what genes those are in, recalculate them and produce `MUTATION` style tables\n",
    "    mask = numpy.isin(sample.stacked_nucleotide_index, snpit_lineage_definition.nucleotide_index)\n",
    "\n",
    "    mutated_genes = numpy.unique(sample.stacked_gene_name[mask])\n",
    "\n",
    "#     print(\"There are \" + str(len(mutated_genes)) + \" genes that are different in this lineage\")\n",
    "    \n",
    "    rows = []\n",
    "    for gene_name in mutated_genes:\n",
    "        if gene_name != '':\n",
    "            gene2 = sample.build_gene(gene_name)\n",
    "            mdiff = reference_genes[gene_name] - gene2\n",
    "            for mutation in mdiff.mutations:\n",
    "                rows.append([lineage_name,gene_name, mutation])\n",
    "\n",
    "    df = pandas.DataFrame(rows, columns = ['id', 'GENE', 'MUTATION'])\n",
    "    df['id'] = lineage_name\n",
    "    \n",
    "    if MUTATIONS is None:\n",
    "        MUTATIONS = copy.deepcopy(df)\n",
    "    else:\n",
    "        MUTATIONS = MUTATIONS.append(df)\n",
    "\n"
   ]
  },
  {
   "cell_type": "code",
   "execution_count": 270,
   "id": "61019ece-27ac-4180-baa8-06e2c91ad53a",
   "metadata": {},
   "outputs": [
    {
     "data": {
      "text/html": [
       "<div>\n",
       "<style scoped>\n",
       "    .dataframe tbody tr th:only-of-type {\n",
       "        vertical-align: middle;\n",
       "    }\n",
       "\n",
       "    .dataframe tbody tr th {\n",
       "        vertical-align: top;\n",
       "    }\n",
       "\n",
       "    .dataframe thead th {\n",
       "        text-align: right;\n",
       "    }\n",
       "</style>\n",
       "<table border=\"1\" class=\"dataframe\">\n",
       "  <thead>\n",
       "    <tr style=\"text-align: right;\">\n",
       "      <th></th>\n",
       "      <th>VARIANT</th>\n",
       "      <th>id</th>\n",
       "    </tr>\n",
       "  </thead>\n",
       "  <tbody>\n",
       "    <tr>\n",
       "      <th>0</th>\n",
       "      <td>6112g&gt;c</td>\n",
       "      <td>Indo_Oceanic</td>\n",
       "    </tr>\n",
       "    <tr>\n",
       "      <th>1</th>\n",
       "      <td>8452c&gt;t</td>\n",
       "      <td>Indo_Oceanic</td>\n",
       "    </tr>\n",
       "    <tr>\n",
       "      <th>2</th>\n",
       "      <td>13298g&gt;c</td>\n",
       "      <td>Indo_Oceanic</td>\n",
       "    </tr>\n",
       "  </tbody>\n",
       "</table>\n",
       "</div>"
      ],
      "text/plain": [
       "    VARIANT            id\n",
       "0   6112g>c  Indo_Oceanic\n",
       "1   8452c>t  Indo_Oceanic\n",
       "2  13298g>c  Indo_Oceanic"
      ]
     },
     "execution_count": 270,
     "metadata": {},
     "output_type": "execute_result"
    }
   ],
   "source": [
    "VARIANTS[:3]"
   ]
  },
  {
   "cell_type": "code",
   "execution_count": 271,
   "id": "07a83a16-4b61-4b25-9bc6-a63f4cdedf30",
   "metadata": {},
   "outputs": [
    {
     "data": {
      "text/html": [
       "<div>\n",
       "<style scoped>\n",
       "    .dataframe tbody tr th:only-of-type {\n",
       "        vertical-align: middle;\n",
       "    }\n",
       "\n",
       "    .dataframe tbody tr th {\n",
       "        vertical-align: top;\n",
       "    }\n",
       "\n",
       "    .dataframe thead th {\n",
       "        text-align: right;\n",
       "    }\n",
       "</style>\n",
       "<table border=\"1\" class=\"dataframe\">\n",
       "  <thead>\n",
       "    <tr style=\"text-align: right;\">\n",
       "      <th></th>\n",
       "      <th>id</th>\n",
       "      <th>GENE</th>\n",
       "      <th>MUTATION</th>\n",
       "    </tr>\n",
       "  </thead>\n",
       "  <tbody>\n",
       "    <tr>\n",
       "      <th>0</th>\n",
       "      <td>Indo_Oceanic</td>\n",
       "      <td>PE4</td>\n",
       "      <td>K164N</td>\n",
       "    </tr>\n",
       "    <tr>\n",
       "      <th>1</th>\n",
       "      <td>Indo_Oceanic</td>\n",
       "      <td>PE_PGRS11</td>\n",
       "      <td>G280R</td>\n",
       "    </tr>\n",
       "    <tr>\n",
       "      <th>2</th>\n",
       "      <td>Indo_Oceanic</td>\n",
       "      <td>PE_PGRS32</td>\n",
       "      <td>A332T</td>\n",
       "    </tr>\n",
       "  </tbody>\n",
       "</table>\n",
       "</div>"
      ],
      "text/plain": [
       "             id       GENE MUTATION\n",
       "0  Indo_Oceanic        PE4    K164N\n",
       "1  Indo_Oceanic  PE_PGRS11    G280R\n",
       "2  Indo_Oceanic  PE_PGRS32    A332T"
      ]
     },
     "execution_count": 271,
     "metadata": {},
     "output_type": "execute_result"
    }
   ],
   "source": [
    "MUTATIONS[:3]"
   ]
  },
  {
   "cell_type": "markdown",
   "id": "aea92c8f-b375-472b-bc41-ff8bb700a1fe",
   "metadata": {},
   "source": [
    "So that we can join back to the `snpit` master file, let's index"
   ]
  },
  {
   "cell_type": "code",
   "execution_count": 272,
   "id": "5dd76aba-28cd-4840-934a-b3ec3095604c",
   "metadata": {},
   "outputs": [],
   "source": [
    "VARIANTS.set_index('id',inplace=True)\n",
    "MUTATIONS.set_index('id',inplace=True)"
   ]
  },
  {
   "cell_type": "markdown",
   "id": "2c9491ea-3979-4662-b855-117f292b18ea",
   "metadata": {},
   "source": [
    "Now let's tidy up the tables and write them to disc"
   ]
  },
  {
   "cell_type": "code",
   "execution_count": 273,
   "id": "d01da4ba-b66c-4f4e-9c25-5ce72f40d9ff",
   "metadata": {},
   "outputs": [
    {
     "data": {
      "text/html": [
       "<div>\n",
       "<style scoped>\n",
       "    .dataframe tbody tr th:only-of-type {\n",
       "        vertical-align: middle;\n",
       "    }\n",
       "\n",
       "    .dataframe tbody tr th {\n",
       "        vertical-align: top;\n",
       "    }\n",
       "\n",
       "    .dataframe thead th {\n",
       "        text-align: right;\n",
       "    }\n",
       "</style>\n",
       "<table border=\"1\" class=\"dataframe\">\n",
       "  <thead>\n",
       "    <tr style=\"text-align: right;\">\n",
       "      <th></th>\n",
       "      <th>SNPIT_ID</th>\n",
       "      <th>SPECIES</th>\n",
       "      <th>LINEAGE</th>\n",
       "      <th>SUBLINEAGE</th>\n",
       "      <th>GENE</th>\n",
       "      <th>MUTATION</th>\n",
       "    </tr>\n",
       "  </thead>\n",
       "  <tbody>\n",
       "    <tr>\n",
       "      <th>0</th>\n",
       "      <td>Dassie</td>\n",
       "      <td>Dassie bacillus (ex Procavia capensis)</td>\n",
       "      <td>NaN</td>\n",
       "      <td>NaN</td>\n",
       "      <td>PE_PGRS11</td>\n",
       "      <td>T469N</td>\n",
       "    </tr>\n",
       "    <tr>\n",
       "      <th>1</th>\n",
       "      <td>Dassie</td>\n",
       "      <td>Dassie bacillus (ex Procavia capensis)</td>\n",
       "      <td>NaN</td>\n",
       "      <td>NaN</td>\n",
       "      <td>PE_PGRS11</td>\n",
       "      <td>R512L</td>\n",
       "    </tr>\n",
       "    <tr>\n",
       "      <th>2</th>\n",
       "      <td>Dassie</td>\n",
       "      <td>Dassie bacillus (ex Procavia capensis)</td>\n",
       "      <td>NaN</td>\n",
       "      <td>NaN</td>\n",
       "      <td>PE_PGRS11</td>\n",
       "      <td>P518L</td>\n",
       "    </tr>\n",
       "  </tbody>\n",
       "</table>\n",
       "</div>"
      ],
      "text/plain": [
       "  SNPIT_ID                                 SPECIES LINEAGE SUBLINEAGE  \\\n",
       "0   Dassie  Dassie bacillus (ex Procavia capensis)     NaN        NaN   \n",
       "1   Dassie  Dassie bacillus (ex Procavia capensis)     NaN        NaN   \n",
       "2   Dassie  Dassie bacillus (ex Procavia capensis)     NaN        NaN   \n",
       "\n",
       "        GENE MUTATION  \n",
       "0  PE_PGRS11    T469N  \n",
       "1  PE_PGRS11    R512L  \n",
       "2  PE_PGRS11    P518L  "
      ]
     },
     "execution_count": 273,
     "metadata": {},
     "output_type": "execute_result"
    }
   ],
   "source": [
    "MUTATIONS = MUTATIONS.join(snpit)\n",
    "MUTATIONS.reset_index(inplace=True)\n",
    "MUTATIONS.rename(columns = {'id': 'SNPIT_ID', 'species':'SPECIES', 'lineage':'LINEAGE', 'sublineage':'SUBLINEAGE'}, inplace=True)\n",
    "MUTATIONS = MUTATIONS[['SNPIT_ID', 'SPECIES', 'LINEAGE', 'SUBLINEAGE', 'GENE', 'MUTATION']]\n",
    "MUTATIONS.to_csv('tables/MUTATIONS.csv.gz')\n",
    "MUTATIONS.to_pickle('tables/MUTATIONS.pkl.gz')\n",
    "MUTATIONS[:3]"
   ]
  },
  {
   "cell_type": "code",
   "execution_count": 274,
   "id": "09243ed4-d597-4538-b17c-c71f4871fdd9",
   "metadata": {},
   "outputs": [
    {
     "data": {
      "text/html": [
       "<div>\n",
       "<style scoped>\n",
       "    .dataframe tbody tr th:only-of-type {\n",
       "        vertical-align: middle;\n",
       "    }\n",
       "\n",
       "    .dataframe tbody tr th {\n",
       "        vertical-align: top;\n",
       "    }\n",
       "\n",
       "    .dataframe thead th {\n",
       "        text-align: right;\n",
       "    }\n",
       "</style>\n",
       "<table border=\"1\" class=\"dataframe\">\n",
       "  <thead>\n",
       "    <tr style=\"text-align: right;\">\n",
       "      <th></th>\n",
       "      <th>SNPIT_ID</th>\n",
       "      <th>SPECIES</th>\n",
       "      <th>LINEAGE</th>\n",
       "      <th>SUBLINEAGE</th>\n",
       "      <th>VARIANT</th>\n",
       "    </tr>\n",
       "  </thead>\n",
       "  <tbody>\n",
       "    <tr>\n",
       "      <th>0</th>\n",
       "      <td>Dassie</td>\n",
       "      <td>Dassie bacillus (ex Procavia capensis)</td>\n",
       "      <td>NaN</td>\n",
       "      <td>NaN</td>\n",
       "      <td>4087g&gt;t</td>\n",
       "    </tr>\n",
       "    <tr>\n",
       "      <th>1</th>\n",
       "      <td>Dassie</td>\n",
       "      <td>Dassie bacillus (ex Procavia capensis)</td>\n",
       "      <td>NaN</td>\n",
       "      <td>NaN</td>\n",
       "      <td>5073g&gt;a</td>\n",
       "    </tr>\n",
       "    <tr>\n",
       "      <th>2</th>\n",
       "      <td>Dassie</td>\n",
       "      <td>Dassie bacillus (ex Procavia capensis)</td>\n",
       "      <td>NaN</td>\n",
       "      <td>NaN</td>\n",
       "      <td>19052c&gt;g</td>\n",
       "    </tr>\n",
       "  </tbody>\n",
       "</table>\n",
       "</div>"
      ],
      "text/plain": [
       "  SNPIT_ID                                 SPECIES LINEAGE SUBLINEAGE  \\\n",
       "0   Dassie  Dassie bacillus (ex Procavia capensis)     NaN        NaN   \n",
       "1   Dassie  Dassie bacillus (ex Procavia capensis)     NaN        NaN   \n",
       "2   Dassie  Dassie bacillus (ex Procavia capensis)     NaN        NaN   \n",
       "\n",
       "    VARIANT  \n",
       "0   4087g>t  \n",
       "1   5073g>a  \n",
       "2  19052c>g  "
      ]
     },
     "execution_count": 274,
     "metadata": {},
     "output_type": "execute_result"
    }
   ],
   "source": [
    "VARIANTS = VARIANTS.join(snpit)\n",
    "VARIANTS.reset_index(inplace=True)\n",
    "VARIANTS.rename(columns = {'id': 'SNPIT_ID', 'species':'SPECIES', 'lineage':'LINEAGE', 'sublineage':'SUBLINEAGE'}, inplace=True)\n",
    "VARIANTS = VARIANTS[['SNPIT_ID', 'SPECIES', 'LINEAGE', 'SUBLINEAGE', 'VARIANT']]\n",
    "VARIANTS.to_csv('tables/VARIANTS.csv.gz')\n",
    "VARIANTS.to_pickle('tables/VARIANTS.pkl.gz')\n",
    "VARIANTS[:3]"
   ]
  },
  {
   "cell_type": "code",
   "execution_count": null,
   "id": "6eb75214-2f78-4b8e-be96-4f08ec2d1add",
   "metadata": {},
   "outputs": [],
   "source": []
  }
 ],
 "metadata": {
  "kernelspec": {
   "display_name": "Python 3 (ipykernel)",
   "language": "python",
   "name": "python3"
  },
  "language_info": {
   "codemirror_mode": {
    "name": "ipython",
    "version": 3
   },
   "file_extension": ".py",
   "mimetype": "text/x-python",
   "name": "python",
   "nbconvert_exporter": "python",
   "pygments_lexer": "ipython3",
   "version": "3.9.9"
  }
 },
 "nbformat": 4,
 "nbformat_minor": 5
}
